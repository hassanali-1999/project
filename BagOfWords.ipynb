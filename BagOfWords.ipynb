{
  "nbformat": 4,
  "nbformat_minor": 0,
  "metadata": {
    "colab": {
      "provenance": [],
      "include_colab_link": true
    },
    "kernelspec": {
      "name": "python3",
      "display_name": "Python 3"
    },
    "language_info": {
      "name": "python"
    }
  },
  "cells": [
    {
      "cell_type": "markdown",
      "metadata": {
        "id": "view-in-github",
        "colab_type": "text"
      },
      "source": [
        "<a href=\"https://colab.research.google.com/github/hassanali-1999/project/blob/main/BagOfWords.ipynb\" target=\"_parent\"><img src=\"https://colab.research.google.com/assets/colab-badge.svg\" alt=\"Open In Colab\"/></a>"
      ]
    },
    {
      "cell_type": "markdown",
      "source": [
        "## Introduction to Bag of Words (BoW)\n",
        "\n",
        "The Bag of Words (BoW) model is a simple and commonly used technique for text representation in natural language processing (NLP). It transforms text into a fixed-length vector of word frequencies or occurrences, ignoring grammar and word order but retaining the frequency of each word.\n",
        "\n",
        "1. **Vocabulary**: The set of all unique words present in the corpus.\n",
        "2. **Feature Vector**: A numerical representation of text based on word counts or frequencies.\n",
        "3. **Sparsity**: BoW vectors are usually sparse, meaning they contain many zeros."
      ],
      "metadata": {
        "id": "GHtZy_gWHwbb"
      }
    },
    {
      "cell_type": "code",
      "source": [
        "from sklearn.feature_extraction.text import CountVectorizer\n"
      ],
      "metadata": {
        "id": "jb_EPyyjH4mK"
      },
      "execution_count": 1,
      "outputs": []
    },
    {
      "cell_type": "code",
      "source": [
        "# Sample documents\n",
        "documents = [\n",
        "    \"I love programming in Python\",\n",
        "    \"Python programming is fun\",\n",
        "    \"Machine learning is fascinating\"\n",
        "]"
      ],
      "metadata": {
        "id": "VF_G-wdvH4jk"
      },
      "execution_count": 2,
      "outputs": []
    },
    {
      "cell_type": "code",
      "source": [
        "# Create the CountVectorizer object\n",
        "vectorizer = CountVectorizer()"
      ],
      "metadata": {
        "id": "IOjxVVwqH4fY"
      },
      "execution_count": 3,
      "outputs": []
    },
    {
      "cell_type": "code",
      "source": [
        "# Fit and transform the documents\n",
        "X = vectorizer.fit_transform(documents)"
      ],
      "metadata": {
        "id": "BGToGO7IH7DI"
      },
      "execution_count": 4,
      "outputs": []
    },
    {
      "cell_type": "code",
      "source": [
        "# Convert to array and get feature names\n",
        "X_array = X.toarray()\n",
        "feature_names = vectorizer.get_feature_names_out()"
      ],
      "metadata": {
        "id": "40s4RvT5H7Av"
      },
      "execution_count": 5,
      "outputs": []
    },
    {
      "cell_type": "code",
      "source": [
        "# Display the BoW representation\n",
        "import pandas as pd\n",
        "df = pd.DataFrame(X_array, columns=feature_names)\n",
        "print(df)"
      ],
      "metadata": {
        "id": "jA5Mjot-H6-P",
        "outputId": "7e252b16-2550-40ce-dc10-fa3aa1a71b31",
        "colab": {
          "base_uri": "https://localhost:8080/"
        }
      },
      "execution_count": 6,
      "outputs": [
        {
          "output_type": "stream",
          "name": "stdout",
          "text": [
            "   fascinating  fun  in  is  learning  love  machine  programming  python\n",
            "0            0    0   1   0         0     1        0            1       1\n",
            "1            0    1   0   1         0     0        0            1       1\n",
            "2            1    0   0   1         1     0        1            0       0\n"
          ]
        }
      ]
    },
    {
      "cell_type": "code",
      "source": [
        "document = [\n",
        "    \"Data science is an interdisciplinary field\",\n",
        "    \"It uses scientific methods, processes, algorithms\",\n",
        "    \"Data science is used for data analysis\"\n",
        "]\n",
        "\n",
        "# TODO ::  Create the CountVectorizer object\n",
        "\n",
        "# TODO :: Fit and transform the documents\n",
        "\n",
        "# TODO :: Convert to array and get feature names\n",
        "\n",
        "# TODO :: Display the BoW representation\n"
      ],
      "metadata": {
        "id": "zPdiZVpqICUW"
      },
      "execution_count": 9,
      "outputs": []
    },
    {
      "cell_type": "code",
      "source": [
        "vec = CountVectorizer()"
      ],
      "metadata": {
        "id": "O2nsCz7n7Mkp"
      },
      "execution_count": 8,
      "outputs": []
    },
    {
      "cell_type": "code",
      "source": [
        "tr = vectorizer.fit_transform(document)"
      ],
      "metadata": {
        "id": "FlZqhX4I7cE9"
      },
      "execution_count": 10,
      "outputs": []
    },
    {
      "cell_type": "code",
      "source": [
        "tr_array = tr.toarray()\n",
        "f_names = vectorizer.get_feature_names_out()"
      ],
      "metadata": {
        "id": "VlCNSAsL76bs"
      },
      "execution_count": 12,
      "outputs": []
    },
    {
      "cell_type": "code",
      "source": [
        "import pandas as pd\n",
        "sp = pd.DataFrame(tr_array, columns=f_names)\n",
        "print(sp)"
      ],
      "metadata": {
        "id": "I3Thr9-58nVB",
        "outputId": "27829c8b-7a8c-4cbd-8e98-5f198355363b",
        "colab": {
          "base_uri": "https://localhost:8080/"
        }
      },
      "execution_count": 13,
      "outputs": [
        {
          "output_type": "stream",
          "name": "stdout",
          "text": [
            "   algorithms  an  analysis  data  field  for  interdisciplinary  is  it  \\\n",
            "0           0   1         0     1      1    0                  1   1   0   \n",
            "1           1   0         0     0      0    0                  0   0   1   \n",
            "2           0   0         1     2      0    1                  0   1   0   \n",
            "\n",
            "   methods  processes  science  scientific  used  uses  \n",
            "0        0          0        1           0     0     0  \n",
            "1        1          1        0           1     0     1  \n",
            "2        0          0        1           0     1     0  \n"
          ]
        }
      ]
    }
  ]
}